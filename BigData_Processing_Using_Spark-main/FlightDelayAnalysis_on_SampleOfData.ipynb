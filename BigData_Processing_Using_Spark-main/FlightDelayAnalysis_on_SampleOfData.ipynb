{
 "cells": [
  {
   "cell_type": "markdown",
   "metadata": {},
   "source": [
    "### Import Libraries"
   ]
  },
  {
   "cell_type": "code",
   "execution_count": 1,
   "metadata": {},
   "outputs": [],
   "source": [
    "from pyspark.sql import SparkSession\n",
    "from pyspark.sql.functions import *\n",
    "from pyspark.sql.types import *\n",
    "import matplotlib.pyplot as plt"
   ]
  },
  {
   "cell_type": "markdown",
   "metadata": {},
   "source": [
    "### Set up Spark Environment"
   ]
  },
  {
   "cell_type": "code",
   "execution_count": 2,
   "metadata": {},
   "outputs": [
    {
     "name": "stderr",
     "output_type": "stream",
     "text": [
      "Setting default log level to \"WARN\".\n",
      "To adjust logging level use sc.setLogLevel(newLevel). For SparkR, use setLogLevel(newLevel).\n",
      "23/10/13 14:22:34 WARN NativeCodeLoader: Unable to load native-hadoop library for your platform... using builtin-java classes where applicable\n"
     ]
    }
   ],
   "source": [
    "spark = SparkSession.builder \\\n",
    "    .appName(\"FlightDelayAnalysis\") \\\n",
    "    .config(\"spark.executor.memory\", \"5g\") \\\n",
    "    .config(\"spark.executor.cores\", \"3\") \\\n",
    "    .config(\"spark.executor.instances\", \"4\") \\\n",
    "    .config(\"spark.driver.memory\", \"2g\") \\\n",
    "    .config(\"spark.driver.cores\", \"1\") \\\n",
    "    .getOrCreate()"
   ]
  },
  {
   "cell_type": "code",
   "execution_count": 3,
   "metadata": {},
   "outputs": [],
   "source": [
    "# increase the maximum number of fields that can be displayed when a plan is printed to 100\n",
    "\n",
    "spark.conf.set(\"spark.sql.debug.maxToStringFields\", \"100\")"
   ]
  },
  {
   "cell_type": "markdown",
   "metadata": {},
   "source": [
    "### Loading Dataset"
   ]
  },
  {
   "cell_type": "code",
   "execution_count": 4,
   "metadata": {},
   "outputs": [],
   "source": [
    "file= \"\"\"/home/alaa-haggag/Big Data Assesment/Flight Delay/Flight_Delay.parquet\"\"\""
   ]
  },
  {
   "cell_type": "code",
   "execution_count": 5,
   "metadata": {},
   "outputs": [
    {
     "name": "stderr",
     "output_type": "stream",
     "text": [
      "                                                                                \r"
     ]
    }
   ],
   "source": [
    "flights_whole_df = spark.read.format(\"parquet\").load(file)"
   ]
  },
  {
   "cell_type": "code",
   "execution_count": 6,
   "metadata": {},
   "outputs": [
    {
     "name": "stdout",
     "output_type": "stream",
     "text": [
      "root\n",
      " |-- Year: long (nullable = true)\n",
      " |-- Month: long (nullable = true)\n",
      " |-- DayofMonth: long (nullable = true)\n",
      " |-- FlightDate: string (nullable = true)\n",
      " |-- Marketing_Airline_Network: string (nullable = true)\n",
      " |-- OriginCityName: string (nullable = true)\n",
      " |-- DestCityName: string (nullable = true)\n",
      " |-- CRSDepTime: long (nullable = true)\n",
      " |-- DepTime: double (nullable = true)\n",
      " |-- DepDelay: double (nullable = true)\n",
      " |-- DepDelayMinutes: double (nullable = true)\n",
      " |-- TaxiOut: double (nullable = true)\n",
      " |-- WheelsOff: double (nullable = true)\n",
      " |-- WheelsOn: double (nullable = true)\n",
      " |-- TaxiIn: double (nullable = true)\n",
      " |-- CRSArrTime: long (nullable = true)\n",
      " |-- ArrTime: double (nullable = true)\n",
      " |-- ArrDelay: double (nullable = true)\n",
      " |-- ArrDelayMinutes: double (nullable = true)\n",
      " |-- CRSElapsedTime: double (nullable = true)\n",
      " |-- ActualElapsedTime: double (nullable = true)\n",
      " |-- AirTime: double (nullable = true)\n",
      " |-- Distance: double (nullable = true)\n",
      " |-- DistanceGroup: long (nullable = true)\n",
      " |-- CarrierDelay: double (nullable = true)\n",
      " |-- WeatherDelay: double (nullable = true)\n",
      " |-- NASDelay: double (nullable = true)\n",
      " |-- SecurityDelay: double (nullable = true)\n",
      " |-- LateAircraftDelay: double (nullable = true)\n",
      " |-- __index_level_0__: long (nullable = true)\n",
      "\n"
     ]
    }
   ],
   "source": [
    "flights_whole_df.printSchema()"
   ]
  },
  {
   "cell_type": "code",
   "execution_count": 7,
   "metadata": {},
   "outputs": [
    {
     "name": "stderr",
     "output_type": "stream",
     "text": [
      "                                                                                \r"
     ]
    },
    {
     "name": "stdout",
     "output_type": "stream",
     "text": [
      "+----+-----+----------+----------+-------------------------+--------------+--------------+----------+-------+--------+---------------+-------+---------+--------+------+----------+-------+--------+---------------+--------------+-----------------+-------+--------+-------------+------------+------------+--------+-------------+-----------------+-----------------+\n",
      "|Year|Month|DayofMonth|FlightDate|Marketing_Airline_Network|OriginCityName|  DestCityName|CRSDepTime|DepTime|DepDelay|DepDelayMinutes|TaxiOut|WheelsOff|WheelsOn|TaxiIn|CRSArrTime|ArrTime|ArrDelay|ArrDelayMinutes|CRSElapsedTime|ActualElapsedTime|AirTime|Distance|DistanceGroup|CarrierDelay|WeatherDelay|NASDelay|SecurityDelay|LateAircraftDelay|__index_level_0__|\n",
      "+----+-----+----------+----------+-------------------------+--------------+--------------+----------+-------+--------+---------------+-------+---------+--------+------+----------+-------+--------+---------------+--------------+-----------------+-------+--------+-------------+------------+------------+--------+-------------+-----------------+-----------------+\n",
      "|2018|    1|        15|2018-01-15|                       UA|    Newark, NJ|Charleston, SC|      1845| 1928.0|    43.0|           43.0|   35.0|   2003.0|  2145.0|   4.0|      2108| 2149.0|    41.0|           41.0|         143.0|            141.0|  102.0|   628.0|            3|        41.0|         0.0|     0.0|          0.0|              0.0|                1|\n",
      "|2018|    1|        16|2018-01-16|                       UA|    Newark, NJ|Charleston, SC|      1835| 1956.0|    81.0|           81.0|   18.0|   2014.0|  2202.0|   5.0|      2058| 2207.0|    69.0|           69.0|         143.0|            131.0|  108.0|   628.0|            3|        67.0|         0.0|     0.0|          0.0|              2.0|                2|\n",
      "|2018|    1|        17|2018-01-17|                       UA|    Newark, NJ|Charleston, SC|      1835| 1836.0|     1.0|            1.0|   19.0|   1855.0|  2048.0|   6.0|      2058| 2054.0|    -4.0|            0.0|         143.0|            138.0|  113.0|   628.0|            3|         0.0|         0.0|     0.0|          0.0|              0.0|                3|\n",
      "|2018|    1|        18|2018-01-18|                       UA|    Newark, NJ|Charleston, SC|      1845| 1844.0|    -1.0|            0.0|   36.0|   1920.0|  2052.0|   6.0|      2108| 2058.0|   -10.0|            0.0|         143.0|            134.0|   92.0|   628.0|            3|         0.0|         0.0|     0.0|          0.0|              0.0|                4|\n",
      "|2018|    1|        20|2018-01-20|                       UA|    Newark, NJ|Charleston, SC|      1835| 1829.0|    -6.0|            0.0|   22.0|   1851.0|  2020.0|   6.0|      2058| 2026.0|   -32.0|            0.0|         143.0|            117.0|   89.0|   628.0|            3|         0.0|         0.0|     0.0|          0.0|              0.0|                6|\n",
      "+----+-----+----------+----------+-------------------------+--------------+--------------+----------+-------+--------+---------------+-------+---------+--------+------+----------+-------+--------+---------------+--------------+-----------------+-------+--------+-------------+------------+------------+--------+-------------+-----------------+-----------------+\n",
      "only showing top 5 rows\n",
      "\n"
     ]
    }
   ],
   "source": [
    "flights_whole_df.show(5)"
   ]
  },
  {
   "cell_type": "markdown",
   "metadata": {},
   "source": [
    "### Taking a sample of the data for testing"
   ]
  },
  {
   "cell_type": "code",
   "execution_count": 8,
   "metadata": {},
   "outputs": [],
   "source": [
    "# Select relevant columns\n",
    "flights_df = flights_whole_df.select([\"FlightDate\", \"Marketing_Airline_Network\", \"CarrierDelay\", \"OriginCityName\", \"DestCityName\", \n",
    "                                      \"DepDelay\", \"ArrDelay\", \"ArrDelayMinutes\", \"DepTime\",\"Distance\"])\\\n",
    "\t\t\t\t\t\t\t.sample(False, 0.001, 42)"
   ]
  },
  {
   "cell_type": "code",
   "execution_count": 9,
   "metadata": {},
   "outputs": [
    {
     "name": "stderr",
     "output_type": "stream",
     "text": [
      "[Stage 4:============================================>              (3 + 1) / 4]\r"
     ]
    },
    {
     "name": "stdout",
     "output_type": "stream",
     "text": [
      "+----------+-------------------------+------------+--------------------+---------------+--------+--------+---------------+-------+--------+\n",
      "|FlightDate|Marketing_Airline_Network|CarrierDelay|      OriginCityName|   DestCityName|DepDelay|ArrDelay|ArrDelayMinutes|DepTime|Distance|\n",
      "+----------+-------------------------+------------+--------------------+---------------+--------+--------+---------------+-------+--------+\n",
      "|2018-01-14|                       UA|         0.0| Gulfport/Biloxi, MS|    Houston, TX|   -13.0|   -26.0|            0.0| 1502.0|   376.0|\n",
      "|2018-01-17|                       DL|         0.0|        Richmond, VA|Minneapolis, MN|    -4.0|    -5.0|            0.0|  846.0|   970.0|\n",
      "|2018-01-09|                       DL|        26.0|        Richmond, VA|   New York, NY|   172.0|   167.0|          167.0| 1742.0|   292.0|\n",
      "|2018-01-25|                       DL|         0.0|        Key West, FL|    Atlanta, GA|    -1.0|    -8.0|            0.0|  701.0|   646.0|\n",
      "|2018-01-19|                       DL|         0.0|Greensboro/High P...|   New York, NY|   -19.0|    -6.0|            0.0| 1722.0|   461.0|\n",
      "+----------+-------------------------+------------+--------------------+---------------+--------+--------+---------------+-------+--------+\n",
      "only showing top 5 rows\n",
      "\n"
     ]
    },
    {
     "name": "stderr",
     "output_type": "stream",
     "text": [
      "                                                                                \r"
     ]
    }
   ],
   "source": [
    "flights_df.show(5)"
   ]
  },
  {
   "cell_type": "code",
   "execution_count": 10,
   "metadata": {},
   "outputs": [
    {
     "data": {
      "text/plain": [
       "6"
      ]
     },
     "execution_count": 10,
     "metadata": {},
     "output_type": "execute_result"
    }
   ],
   "source": [
    "# Check the number of partitions\n",
    "flights_df.rdd.getNumPartitions()"
   ]
  },
  {
   "cell_type": "code",
   "execution_count": 11,
   "metadata": {},
   "outputs": [],
   "source": [
    "# Repartition the DataFrame into 10 partitions for parallel processing and better memory management\n",
    "\n",
    "flights_df = flights_df.repartition(10)\n"
   ]
  },
  {
   "cell_type": "markdown",
   "metadata": {},
   "source": [
    "### Understanding The data "
   ]
  },
  {
   "cell_type": "code",
   "execution_count": 12,
   "metadata": {},
   "outputs": [
    {
     "name": "stdout",
     "output_type": "stream",
     "text": [
      "root\n",
      " |-- FlightDate: string (nullable = true)\n",
      " |-- Marketing_Airline_Network: string (nullable = true)\n",
      " |-- CarrierDelay: double (nullable = true)\n",
      " |-- OriginCityName: string (nullable = true)\n",
      " |-- DestCityName: string (nullable = true)\n",
      " |-- DepDelay: double (nullable = true)\n",
      " |-- ArrDelay: double (nullable = true)\n",
      " |-- ArrDelayMinutes: double (nullable = true)\n",
      " |-- DepTime: double (nullable = true)\n",
      " |-- Distance: double (nullable = true)\n",
      "\n"
     ]
    }
   ],
   "source": [
    "flights_df.printSchema()"
   ]
  },
  {
   "cell_type": "code",
   "execution_count": 14,
   "metadata": {},
   "outputs": [
    {
     "data": {
      "text/plain": [
       "DataFrame[FlightDate: string, Marketing_Airline_Network: string, CarrierDelay: double, OriginCityName: string, DestCityName: string, DepDelay: double, ArrDelay: double, ArrDelayMinutes: double, DepTime: double, Distance: double]"
      ]
     },
     "execution_count": 14,
     "metadata": {},
     "output_type": "execute_result"
    }
   ],
   "source": [
    "# For better performance, persist the DataFrame in memory\n",
    "flights_df.persist()"
   ]
  },
  {
   "cell_type": "code",
   "execution_count": 15,
   "metadata": {},
   "outputs": [
    {
     "name": "stderr",
     "output_type": "stream",
     "text": [
      "[Stage 9:==============================================>           (8 + 2) / 10]\r"
     ]
    },
    {
     "name": "stdout",
     "output_type": "stream",
     "text": [
      "Number of rows in the DataFrame:  30417\n"
     ]
    },
    {
     "name": "stderr",
     "output_type": "stream",
     "text": [
      "                                                                                \r"
     ]
    }
   ],
   "source": [
    "# Count the number of rows in the DataFrame\n",
    "number_of_rows = flights_df.count()\n",
    "\n",
    "print(\"Number of rows in the DataFrame: \", number_of_rows)"
   ]
  },
  {
   "cell_type": "code",
   "execution_count": 17,
   "metadata": {},
   "outputs": [
    {
     "name": "stderr",
     "output_type": "stream",
     "text": [
      "[Stage 17:==================================>                      (6 + 4) / 10]\r"
     ]
    },
    {
     "name": "stdout",
     "output_type": "stream",
     "text": [
      "+----------+-------------------------+------------+--------------+------------+--------+--------+---------------+-------+--------+\n",
      "|FlightDate|Marketing_Airline_Network|CarrierDelay|OriginCityName|DestCityName|DepDelay|ArrDelay|ArrDelayMinutes|DepTime|Distance|\n",
      "+----------+-------------------------+------------+--------------+------------+--------+--------+---------------+-------+--------+\n",
      "|         0|                        0|           0|             0|           0|       0|       0|              0|      0|       0|\n",
      "+----------+-------------------------+------------+--------------+------------+--------+--------+---------------+-------+--------+\n",
      "\n"
     ]
    },
    {
     "name": "stderr",
     "output_type": "stream",
     "text": [
      "                                                                                \r"
     ]
    }
   ],
   "source": [
    "# show  the nulls in each column\n",
    "\n",
    "flights_df.select([count(when(isnan(c) | col(c).isNull(), c)).alias(c) for c in flights_df.columns]).show()"
   ]
  },
  {
   "cell_type": "code",
   "execution_count": 18,
   "metadata": {},
   "outputs": [
    {
     "name": "stderr",
     "output_type": "stream",
     "text": [
      "[Stage 30:>                                                         (0 + 2) / 2]\r"
     ]
    },
    {
     "name": "stdout",
     "output_type": "stream",
     "text": [
      "\n",
      "Number of duplicates in the DataFrame:  0\n"
     ]
    },
    {
     "name": "stderr",
     "output_type": "stream",
     "text": [
      "                                                                                \r"
     ]
    }
   ],
   "source": [
    "# show the number of duplicates in the DataFrame\n",
    "\n",
    "number_of_duplicates =  flights_df.count() - flights_df.dropDuplicates().count()\n",
    "\n",
    "print(\"\\nNumber of duplicates in the DataFrame: \", number_of_duplicates)"
   ]
  },
  {
   "cell_type": "code",
   "execution_count": 19,
   "metadata": {},
   "outputs": [
    {
     "name": "stderr",
     "output_type": "stream",
     "text": [
      "[Stage 39:>                                                         (0 + 1) / 1]\r"
     ]
    },
    {
     "name": "stdout",
     "output_type": "stream",
     "text": [
      "+-------+----------+-------------------------+------------------+--------------+------------+------------------+------------------+------------------+------------------+-----------------+\n",
      "|summary|FlightDate|Marketing_Airline_Network|      CarrierDelay|OriginCityName|DestCityName|          DepDelay|          ArrDelay|   ArrDelayMinutes|           DepTime|         Distance|\n",
      "+-------+----------+-------------------------+------------------+--------------+------------+------------------+------------------+------------------+------------------+-----------------+\n",
      "|  count|     30417|                    30417|             30417|         30417|       30417|             30417|             30417|             30417|             30417|            30417|\n",
      "|   mean|      NULL|                     NULL|  4.69142255975277|          NULL|        NULL| 9.972285235230299|3.1463983956340202| 13.81043495413749| 1324.234441266397|776.5061643160075|\n",
      "| stddev|      NULL|                     NULL|29.343371638332037|          NULL|        NULL|47.535876023821174| 50.15803244052065|46.133809141114774|498.49223879447334|578.9993368037142|\n",
      "|    min|2018-01-01|                       AA|               0.0|  Aberdeen, SD|Aberdeen, SD|             -45.0|             -70.0|               0.0|               1.0|             31.0|\n",
      "|    max|2023-04-30|                       WN|            1414.0|      Yuma, AZ|    Yuma, AZ|            1520.0|            1516.0|            1516.0|            2400.0|           4983.0|\n",
      "+-------+----------+-------------------------+------------------+--------------+------------+------------------+------------------+------------------+------------------+-----------------+\n",
      "\n"
     ]
    },
    {
     "name": "stderr",
     "output_type": "stream",
     "text": [
      "                                                                                \r"
     ]
    }
   ],
   "source": [
    "flights_df.describe().show()"
   ]
  },
  {
   "cell_type": "markdown",
   "metadata": {},
   "source": [
    "### Preprocess the data"
   ]
  },
  {
   "cell_type": "code",
   "execution_count": 20,
   "metadata": {},
   "outputs": [],
   "source": [
    "# Convert FlightDate to date type\n",
    "flights_df1 = flights_df.withColumn(\"FlightDate\", flights_df[\"FlightDate\"].cast(\"date\"))"
   ]
  },
  {
   "cell_type": "code",
   "execution_count": 21,
   "metadata": {},
   "outputs": [
    {
     "name": "stdout",
     "output_type": "stream",
     "text": [
      "root\n",
      " |-- FlightDate: date (nullable = true)\n",
      " |-- Marketing_Airline_Network: string (nullable = true)\n",
      " |-- CarrierDelay: double (nullable = true)\n",
      " |-- OriginCityName: string (nullable = true)\n",
      " |-- DestCityName: string (nullable = true)\n",
      " |-- DepDelay: double (nullable = true)\n",
      " |-- ArrDelay: double (nullable = true)\n",
      " |-- ArrDelayMinutes: double (nullable = true)\n",
      " |-- DepTime: double (nullable = true)\n",
      " |-- Distance: double (nullable = true)\n",
      "\n"
     ]
    }
   ],
   "source": [
    "flights_df1.printSchema()"
   ]
  },
  {
   "cell_type": "code",
   "execution_count": 22,
   "metadata": {},
   "outputs": [],
   "source": [
    "# The total delay for each flight\n",
    "flights_df2 = flights_df1.withColumn(\"TotalDelay\", flights_df1[\"DepDelay\"] + flights_df1[\"ArrDelay\"])"
   ]
  },
  {
   "cell_type": "code",
   "execution_count": 25,
   "metadata": {},
   "outputs": [
    {
     "name": "stdout",
     "output_type": "stream",
     "text": [
      "+-------------------------+----------+\n",
      "|Marketing_Airline_Network|TotalDelay|\n",
      "+-------------------------+----------+\n",
      "|                       UA|     -32.0|\n",
      "|                       DL|     -12.0|\n",
      "|                       DL|     130.0|\n",
      "|                       AA|     -26.0|\n",
      "|                       WN|     -36.0|\n",
      "+-------------------------+----------+\n",
      "only showing top 5 rows\n",
      "\n"
     ]
    }
   ],
   "source": [
    "flights_df2.select('Marketing_Airline_Network','TotalDelay').show(5)"
   ]
  },
  {
   "cell_type": "code",
   "execution_count": 26,
   "metadata": {},
   "outputs": [],
   "source": [
    "# Mapping Marketing_Airline_Network to Carrier Name in a new column\n",
    "\n",
    "flights_df3 = flights_df2.withColumn('Carrier_Name',when(col('Marketing_Airline_Network')=='AA','American Airlines')\\\n",
    ".when(col('Marketing_Airline_Network')=='AS','Alaska Airlines')\\\n",
    ".when(col('Marketing_Airline_Network')=='B6','JetBlue Airways')\\\n",
    ".when(col('Marketing_Airline_Network')=='DL','Delta Air Lines')\\\n",
    ".when(col('Marketing_Airline_Network')=='F9','Frontier Airlines')\\\n",
    ".when(col('Marketing_Airline_Network')=='G4','Allegiant Air')\\\n",
    ".when(col('Marketing_Airline_Network')=='HA','Hawaiian Airlines')\\\n",
    ".when(col('Marketing_Airline_Network')=='NK','Spirit Airlines')\\\n",
    ".when(col('Marketing_Airline_Network')=='UA','United Airlines')\\\n",
    ".when(col('Marketing_Airline_Network')=='VX','Virgin America')\\\n",
    ".when(col('Marketing_Airline_Network')=='WN','Southwest Airlines')\\\n",
    ".otherwise('Others'))"
   ]
  },
  {
   "cell_type": "code",
   "execution_count": 27,
   "metadata": {},
   "outputs": [
    {
     "name": "stderr",
     "output_type": "stream",
     "text": [
      "[Stage 47:===================================================>     (9 + 1) / 10]\r"
     ]
    },
    {
     "name": "stdout",
     "output_type": "stream",
     "text": [
      "+------------------+\n",
      "|      Carrier_Name|\n",
      "+------------------+\n",
      "|     Allegiant Air|\n",
      "|   United Airlines|\n",
      "| Hawaiian Airlines|\n",
      "| Frontier Airlines|\n",
      "| American Airlines|\n",
      "|   Delta Air Lines|\n",
      "|   JetBlue Airways|\n",
      "|   Alaska Airlines|\n",
      "|   Spirit Airlines|\n",
      "|Southwest Airlines|\n",
      "|    Virgin America|\n",
      "+------------------+\n",
      "\n"
     ]
    },
    {
     "name": "stderr",
     "output_type": "stream",
     "text": [
      "                                                                                \r"
     ]
    }
   ],
   "source": [
    "flights_df3.select(\"Carrier_Name\").distinct().show()"
   ]
  },
  {
   "cell_type": "code",
   "execution_count": 28,
   "metadata": {},
   "outputs": [],
   "source": [
    "# map OriginCityName to Origin_City in a new column and DestCityName to Dest_City in a new column\n",
    "\n",
    "flights_df4 = flights_df3.withColumn('Origin_City',when(col('OriginCityName')=='Atlanta, GA','Atlanta')\\\n",
    ".when(col('OriginCityName')=='Boston, MA','Boston')\\\n",
    ".when(col('OriginCityName')=='Charlotte, NC','Charlotte')\\\n",
    ".when(col('OriginCityName')=='Chicago, IL','Chicago')\\\n",
    ".when(col('OriginCityName')=='Dallas/Fort Worth, TX','Dallas')\\\n",
    ".when(col('OriginCityName')=='Denver, CO','Denver')\\\n",
    ".when(col('OriginCityName')=='Detroit, MI','Detroit')\\\n",
    ".when(col('OriginCityName')=='Houston, TX','Houston')\\\n",
    ".when(col('OriginCityName')=='Las Vegas, NV','Las Vegas')\\\n",
    ".when(col('OriginCityName')=='Los Angeles, CA','Los Angeles')\\\n",
    ".when(col('OriginCityName')=='Miami, FL','Miami')\\\n",
    ".when(col('OriginCityName')=='Minneapolis, MN','Minneapolis')\\\n",
    ".when(col('OriginCityName')=='New York, NY','New York')\\\n",
    ".when(col('OriginCityName')=='Orlando, FL','Orlando')\\\n",
    ".when(col('OriginCityName')=='Philadelphia, PA','Philadelphia')\\\n",
    ".when(col('OriginCityName')=='Phoenix, AZ','Phoenix')\\\n",
    ".when(col('OriginCityName')=='San Francisco, CA','San Francisco')\\\n",
    ".when(col('OriginCityName')=='Seattle, WA','Seattle')\\\n",
    ".when(col('OriginCityName')=='Washington, DC','Washington')\\\n",
    ".otherwise('Others'))"
   ]
  },
  {
   "cell_type": "code",
   "execution_count": 29,
   "metadata": {},
   "outputs": [
    {
     "name": "stderr",
     "output_type": "stream",
     "text": [
      "[Stage 52:=======================================>                 (7 + 3) / 10]\r"
     ]
    },
    {
     "name": "stdout",
     "output_type": "stream",
     "text": [
      "+-------------+\n",
      "|  Origin_City|\n",
      "+-------------+\n",
      "|      Phoenix|\n",
      "|       Dallas|\n",
      "| Philadelphia|\n",
      "|  Los Angeles|\n",
      "|San Francisco|\n",
      "|      Detroit|\n",
      "|   Washington|\n",
      "|      Chicago|\n",
      "|      Atlanta|\n",
      "|    Las Vegas|\n",
      "|      Seattle|\n",
      "|       Others|\n",
      "|  Minneapolis|\n",
      "|      Houston|\n",
      "|        Miami|\n",
      "|      Orlando|\n",
      "|     New York|\n",
      "|    Charlotte|\n",
      "|       Denver|\n",
      "|       Boston|\n",
      "+-------------+\n",
      "\n"
     ]
    },
    {
     "name": "stderr",
     "output_type": "stream",
     "text": [
      "                                                                                \r"
     ]
    }
   ],
   "source": [
    "flights_df4.select(\"Origin_City\").distinct().show()"
   ]
  },
  {
   "cell_type": "code",
   "execution_count": 30,
   "metadata": {},
   "outputs": [],
   "source": [
    "flights_final_df = flights_df4.withColumn('Dest_City',when(col('DestCityName')=='Atlanta, GA','Atlanta')\\\n",
    ".when(col('DestCityName')=='Boston, MA','Boston')\\\n",
    ".when(col('DestCityName')=='Charlotte, NC','Charlotte')\\\n",
    ".when(col('DestCityName')=='Chicago, IL','Chicago')\\\n",
    ".when(col('DestCityName')=='Dallas/Fort Worth, TX','Dallas')\\\n",
    ".when(col('DestCityName')=='Denver, CO','Denver')\\\n",
    ".when(col('DestCityName')=='Detroit, MI','Detroit')\\\n",
    ".when(col('DestCityName')=='Houston, TX','Houston')\\\n",
    ".when(col('DestCityName')=='Las Vegas, NV','Las Vegas')\\\n",
    ".when(col('DestCityName')=='Los Angeles, CA','Los Angeles')\\\n",
    ".when(col('DestCityName')=='Miami, FL','Miami')\\\n",
    ".when(col('DestCityName')=='Minneapolis, MN','Minneapolis')\\\n",
    ".when(col('DestCityName')=='New York, NY','New York')\\\n",
    ".when(col('DestCityName')=='Orlando, FL','Orlando')\\\n",
    ".when(col('DestCityName')=='Philadelphia, PA','Philadelphia')\\\n",
    ".when(col('DestCityName')=='Phoenix, AZ','Phoenix')\\\n",
    ".when(col('DestCityName')=='San Francisco, CA','San Francisco')\\\n",
    ".when(col('DestCityName')=='Seattle, WA','Seattle')\\\n",
    ".when(col('DestCityName')=='Washington, DC','Washington')\\\n",
    ".otherwise('Others'))\n"
   ]
  },
  {
   "cell_type": "code",
   "execution_count": 31,
   "metadata": {},
   "outputs": [
    {
     "name": "stdout",
     "output_type": "stream",
     "text": [
      "+-------------+\n",
      "|    Dest_City|\n",
      "+-------------+\n",
      "|      Phoenix|\n",
      "|       Dallas|\n",
      "| Philadelphia|\n",
      "|  Los Angeles|\n",
      "|San Francisco|\n",
      "|      Detroit|\n",
      "|   Washington|\n",
      "|      Chicago|\n",
      "|      Atlanta|\n",
      "|    Las Vegas|\n",
      "|      Seattle|\n",
      "|       Others|\n",
      "|  Minneapolis|\n",
      "|      Houston|\n",
      "|        Miami|\n",
      "|      Orlando|\n",
      "|     New York|\n",
      "|    Charlotte|\n",
      "|       Denver|\n",
      "|       Boston|\n",
      "+-------------+\n",
      "\n"
     ]
    }
   ],
   "source": [
    "flights_final_df.select(\"Dest_City\").distinct().show()"
   ]
  },
  {
   "cell_type": "code",
   "execution_count": 32,
   "metadata": {},
   "outputs": [
    {
     "name": "stdout",
     "output_type": "stream",
     "text": [
      "root\n",
      " |-- FlightDate: date (nullable = true)\n",
      " |-- Marketing_Airline_Network: string (nullable = true)\n",
      " |-- CarrierDelay: double (nullable = true)\n",
      " |-- OriginCityName: string (nullable = true)\n",
      " |-- DestCityName: string (nullable = true)\n",
      " |-- DepDelay: double (nullable = true)\n",
      " |-- ArrDelay: double (nullable = true)\n",
      " |-- ArrDelayMinutes: double (nullable = true)\n",
      " |-- DepTime: double (nullable = true)\n",
      " |-- Distance: double (nullable = true)\n",
      " |-- TotalDelay: double (nullable = true)\n",
      " |-- Carrier_Name: string (nullable = false)\n",
      " |-- Origin_City: string (nullable = false)\n",
      " |-- Dest_City: string (nullable = false)\n",
      "\n"
     ]
    }
   ],
   "source": [
    "flights_final_df.printSchema()"
   ]
  },
  {
   "cell_type": "code",
   "execution_count": 33,
   "metadata": {},
   "outputs": [
    {
     "data": {
      "text/plain": [
       "DataFrame[FlightDate: date, Marketing_Airline_Network: string, CarrierDelay: double, OriginCityName: string, DestCityName: string, DepDelay: double, ArrDelay: double, ArrDelayMinutes: double, DepTime: double, Distance: double, TotalDelay: double, Carrier_Name: string, Origin_City: string, Dest_City: string]"
      ]
     },
     "execution_count": 33,
     "metadata": {},
     "output_type": "execute_result"
    }
   ],
   "source": [
    "# Cache the final processed DataFrame in memory for faster access\n",
    "flights_final_df.cache()"
   ]
  },
  {
   "cell_type": "markdown",
   "metadata": {},
   "source": [
    "### Analyze the dataset"
   ]
  },
  {
   "cell_type": "code",
   "execution_count": 34,
   "metadata": {},
   "outputs": [
    {
     "name": "stderr",
     "output_type": "stream",
     "text": [
      "[Stage 62:==================================>                      (6 + 4) / 10]\r"
     ]
    },
    {
     "name": "stdout",
     "output_type": "stream",
     "text": [
      "+------------------+-------------------+\n",
      "|      Carrier_Name|    avg(TotalDelay)|\n",
      "+------------------+-------------------+\n",
      "|     Allegiant Air| 22.144827586206898|\n",
      "|   United Airlines| 17.662726008344922|\n",
      "| Hawaiian Airlines|-0.8032258064516129|\n",
      "| Frontier Airlines| 23.686851211072664|\n",
      "| American Airlines| 13.076003086419753|\n",
      "|   Delta Air Lines|  8.743724635502781|\n",
      "|   JetBlue Airways|  31.61482820976492|\n",
      "|   Alaska Airlines| 1.2229567307692308|\n",
      "|   Spirit Airlines| 17.734430082256168|\n",
      "|Southwest Airlines|  11.77767265846736|\n",
      "|    Virgin America| 24.428571428571427|\n",
      "+------------------+-------------------+\n",
      "\n"
     ]
    },
    {
     "name": "stderr",
     "output_type": "stream",
     "text": [
      "                                                                                \r"
     ]
    }
   ],
   "source": [
    "# What is the average delay time for each airline? \n",
    "\n",
    "flights_final_df.groupBy(\"Carrier_Name\").agg(avg(\"TotalDelay\")).show()\n"
   ]
  },
  {
   "cell_type": "code",
   "execution_count": 37,
   "metadata": {},
   "outputs": [
    {
     "name": "stdout",
     "output_type": "stream",
     "text": [
      "+------------------+----------------+\n",
      "|      Carrier_Name|Total_Delay_Time|\n",
      "+------------------+----------------+\n",
      "| American Airlines|        101679.0|\n",
      "|   United Airlines|        101596.0|\n",
      "|Southwest Airlines|         62245.0|\n",
      "|   Delta Air Lines|         58172.0|\n",
      "|   JetBlue Airways|         34966.0|\n",
      "|   Spirit Airlines|         15092.0|\n",
      "| Frontier Airlines|         13691.0|\n",
      "|     Allegiant Air|          9633.0|\n",
      "|   Alaska Airlines|          2035.0|\n",
      "|    Virgin America|           171.0|\n",
      "+------------------+----------------+\n",
      "only showing top 10 rows\n",
      "\n"
     ]
    }
   ],
   "source": [
    "# what the top 10 airlines with the most delay time?\n",
    "\n",
    "flights_final_df.groupBy(\"Carrier_Name\").agg(sum(\"TotalDelay\").alias(\"Total_Delay_Time\")).orderBy(desc(\"Total_Delay_Time\")).show(10)\n"
   ]
  },
  {
   "cell_type": "code",
   "execution_count": 40,
   "metadata": {},
   "outputs": [
    {
     "name": "stdout",
     "output_type": "stream",
     "text": [
      "+------------+-----+\n",
      "|CarrierDelay|count|\n",
      "+------------+-----+\n",
      "|         0.0|27000|\n",
      "|         3.0|  126|\n",
      "|         1.0|  120|\n",
      "|         6.0|  105|\n",
      "|         7.0|  101|\n",
      "|         5.0|  101|\n",
      "|         4.0|   95|\n",
      "|        15.0|   95|\n",
      "|        16.0|   95|\n",
      "|         2.0|   89|\n",
      "|        10.0|   88|\n",
      "|        17.0|   81|\n",
      "|        18.0|   78|\n",
      "|         9.0|   76|\n",
      "|         8.0|   74|\n",
      "|        11.0|   72|\n",
      "|        19.0|   72|\n",
      "|        14.0|   67|\n",
      "|        12.0|   66|\n",
      "|        20.0|   65|\n",
      "+------------+-----+\n",
      "only showing top 20 rows\n",
      "\n"
     ]
    }
   ],
   "source": [
    "# What is the most common cause of delays?\n",
    "\n",
    "flights_final_df.groupBy(\"CarrierDelay\").count().orderBy(desc(\"count\")).show()"
   ]
  },
  {
   "cell_type": "code",
   "execution_count": 41,
   "metadata": {},
   "outputs": [
    {
     "data": {
      "image/png": "[encoded data removed]",
      "text/plain": [
       "<Figure size 640x480 with 1 Axes>"
      ]
     },
     "metadata": {},
     "output_type": "display_data"
    }
   ],
   "source": [
    "# What is the relationship between distance and delay time?\n",
    "\n",
    "plt.scatter(flights_final_df.select(\"Distance\").collect(), flights_final_df.select(\"DepDelay\").collect())\n",
    "plt.xlabel(\"Distance\")\n",
    "plt.ylabel(\"Delay Time\")\n",
    "plt.show()\n"
   ]
  },
  {
   "cell_type": "code",
   "execution_count": 42,
   "metadata": {},
   "outputs": [
    {
     "name": "stdout",
     "output_type": "stream",
     "text": [
      "+--------------------+-----+\n",
      "|      OriginCityName|count|\n",
      "+--------------------+-----+\n",
      "|         Chicago, IL| 1679|\n",
      "|         Atlanta, GA| 1504|\n",
      "|Dallas/Fort Worth...| 1202|\n",
      "|          Denver, CO| 1197|\n",
      "|        New York, NY| 1086|\n",
      "|       Charlotte, NC|  964|\n",
      "|         Houston, TX|  925|\n",
      "|     Los Angeles, CA|  914|\n",
      "|      Washington, DC|  906|\n",
      "|         Seattle, WA|  758|\n",
      "|         Phoenix, AZ|  734|\n",
      "|         Detroit, MI|  635|\n",
      "|       Las Vegas, NV|  621|\n",
      "|         Orlando, FL|  609|\n",
      "|   San Francisco, CA|  595|\n",
      "|     Minneapolis, MN|  595|\n",
      "|          Newark, NJ|  583|\n",
      "|    Philadelphia, PA|  562|\n",
      "|          Boston, MA|  543|\n",
      "|  Salt Lake City, UT|  489|\n",
      "+--------------------+-----+\n",
      "only showing top 20 rows\n",
      "\n"
     ]
    }
   ],
   "source": [
    "# What is the busiest airport in terms of flight volume?\n",
    "flights_final_df.groupBy(\"OriginCityName\").count().orderBy(desc(\"count\")).show()"
   ]
  },
  {
   "cell_type": "code",
   "execution_count": 43,
   "metadata": {},
   "outputs": [
    {
     "name": "stdout",
     "output_type": "stream",
     "text": [
      "+---------+--------------------+\n",
      "|DayOfWeek|avg(ArrDelayMinutes)|\n",
      "+---------+--------------------+\n",
      "|        1|  14.470213733515234|\n",
      "|        2|  14.710874755806381|\n",
      "|        3|  11.588357109986195|\n",
      "|        4|  12.323670394887012|\n",
      "|        5|  15.580208564455292|\n",
      "|        6|  15.030854248215519|\n",
      "|        7|  12.726727509778357|\n",
      "+---------+--------------------+\n",
      "\n"
     ]
    }
   ],
   "source": [
    "# what is the average delay time by day of week?\n",
    "flights_final_df.groupBy(dayofweek(\"FlightDate\").alias(\"DayOfWeek\")).agg({\"ArrDelayMinutes\": \"avg\"}).orderBy(\"DayOfWeek\").show()"
   ]
  },
  {
   "cell_type": "code",
   "execution_count": 45,
   "metadata": {},
   "outputs": [
    {
     "name": "stdout",
     "output_type": "stream",
     "text": [
      "+-----+------------------+\n",
      "|Month|Average_Delay_Time|\n",
      "+-----+------------------+\n",
      "|    7| 25.02173913043478|\n",
      "|    6| 23.25668934240363|\n",
      "|    8| 20.52224919093851|\n",
      "|   12|19.050978792822185|\n",
      "|    5| 13.80743394536498|\n",
      "|    2|13.756756756756756|\n",
      "|    4|11.982881597717546|\n",
      "|   10| 9.911111111111111|\n",
      "|    3| 7.760740251156642|\n",
      "|    1|7.5597938144329895|\n",
      "|   11|5.8222126560482135|\n",
      "|    9|1.7886075949367088|\n",
      "+-----+------------------+\n",
      "\n"
     ]
    }
   ],
   "source": [
    "# what is the average delay time by month?\n",
    "\n",
    "flights_final_df.groupBy(month(\"FlightDate\").alias(\"Month\")).agg(avg(\"TotalDelay\").alias(\"Average_Delay_Time\")).orderBy(desc(\"Average_Delay_Time\")).show(12)"
   ]
  },
  {
   "cell_type": "code",
   "execution_count": 46,
   "metadata": {},
   "outputs": [],
   "source": [
    "spark.stop()"
   ]
  },
  {
   "cell_type": "code",
   "execution_count": null,
   "metadata": {},
   "outputs": [],
   "source": []
  }
 ],
 "metadata": {
  "kernelspec": {
   "display_name": "Python 3",
   "language": "python",
   "name": "python3"
  },
  "language_info": {
   "codemirror_mode": {
    "name": "ipython",
    "version": 3
   },
   "file_extension": ".py",
   "mimetype": "text/x-python",
   "name": "python",
   "nbconvert_exporter": "python",
   "pygments_lexer": "ipython3",
   "version": "3.10.12"
  }
 },
 "nbformat": 4,
 "nbformat_minor": 2
}
